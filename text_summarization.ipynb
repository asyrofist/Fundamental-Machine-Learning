{
  "nbformat": 4,
  "nbformat_minor": 0,
  "metadata": {
    "kernelspec": {
      "display_name": "Python 3",
      "language": "python",
      "name": "python3"
    },
    "language_info": {
      "codemirror_mode": {
        "name": "ipython",
        "version": 3
      },
      "file_extension": ".py",
      "mimetype": "text/x-python",
      "name": "python",
      "nbconvert_exporter": "python",
      "pygments_lexer": "ipython3",
      "version": "3.7.4"
    },
    "colab": {
      "name": "text-summarization.ipynb",
      "provenance": [],
      "include_colab_link": true
    }
  },
  "cells": [
    {
      "cell_type": "markdown",
      "metadata": {
        "id": "view-in-github",
        "colab_type": "text"
      },
      "source": [
        "<a href=\"https://colab.research.google.com/github/asyrofist/Fundamental-Machine-Learning/blob/master/text_summarization.ipynb\" target=\"_parent\"><img src=\"https://colab.research.google.com/assets/colab-badge.svg\" alt=\"Open In Colab\"/></a>"
      ]
    },
    {
      "cell_type": "markdown",
      "metadata": {
        "id": "UhDhRIB919MP",
        "colab_type": "text"
      },
      "source": [
        "# Text Summarization"
      ]
    },
    {
      "cell_type": "code",
      "metadata": {
        "id": "tT-uEK9s19MT",
        "colab_type": "code",
        "colab": {},
        "outputId": "b16028eb-c829-437b-bbc0-23f035212e9c"
      },
      "source": [
        "import re\n",
        "import string\n",
        "import numpy as np\n",
        "import matplotlib.pyplot as plt\n",
        "from nltk import pos_tag\n",
        "from nltk.tokenize import sent_tokenize, word_tokenize\n",
        "from nltk.stem.wordnet import WordNetLemmatizer\n",
        "from nltk.corpus.reader.wordnet import NOUN, VERB, ADJ, ADV\n",
        "from nltk.corpus import brown, stopwords\n",
        "from nltk.cluster.util import cosine_distance\n",
        "from operator import itemgetter\n",
        "%matplotlib"
      ],
      "execution_count": 0,
      "outputs": [
        {
          "output_type": "stream",
          "text": [
            "Using matplotlib backend: Qt5Agg\n"
          ],
          "name": "stdout"
        }
      ]
    },
    {
      "cell_type": "code",
      "metadata": {
        "id": "OmMwUQrm19MZ",
        "colab_type": "code",
        "colab": {}
      },
      "source": [
        "sentences = brown.sents('ca01')"
      ],
      "execution_count": 0,
      "outputs": []
    },
    {
      "cell_type": "code",
      "metadata": {
        "id": "Ow2Keg4e19Me",
        "colab_type": "code",
        "colab": {},
        "outputId": "12eab806-8fb4-41e7-ac28-022990c0dc45"
      },
      "source": [
        "len(sentences)"
      ],
      "execution_count": 0,
      "outputs": [
        {
          "output_type": "execute_result",
          "data": {
            "text/plain": [
              "98"
            ]
          },
          "metadata": {
            "tags": []
          },
          "execution_count": 3
        }
      ]
    },
    {
      "cell_type": "code",
      "metadata": {
        "id": "CVEnjRwl19Mj",
        "colab_type": "code",
        "colab": {},
        "outputId": "a8b788f7-9bc0-449d-fe4b-b315a142d5d6"
      },
      "source": [
        "[' '.join(sent) for sent in sentences]"
      ],
      "execution_count": 0,
      "outputs": [
        {
          "output_type": "execute_result",
          "data": {
            "text/plain": [
              "[\"The Fulton County Grand Jury said Friday an investigation of Atlanta's recent primary election produced `` no evidence '' that any irregularities took place .\",\n",
              " \"The jury further said in term-end presentments that the City Executive Committee , which had over-all charge of the election , `` deserves the praise and thanks of the City of Atlanta '' for the manner in which the election was conducted .\",\n",
              " \"The September-October term jury had been charged by Fulton Superior Court Judge Durwood Pye to investigate reports of possible `` irregularities '' in the hard-fought primary which was won by Mayor-nominate Ivan Allen Jr. .\",\n",
              " \"`` Only a relative handful of such reports was received '' , the jury said , `` considering the widespread interest in the election , the number of voters and the size of this city '' .\",\n",
              " \"The jury said it did find that many of Georgia's registration and election laws `` are outmoded or inadequate and often ambiguous '' .\",\n",
              " \"It recommended that Fulton legislators act `` to have these laws studied and revised to the end of modernizing and improving them '' .\",\n",
              " \"The grand jury commented on a number of other topics , among them the Atlanta and Fulton County purchasing departments which it said `` are well operated and follow generally accepted practices which inure to the best interest of both governments '' .\",\n",
              " 'Merger proposed',\n",
              " \"However , the jury said it believes `` these two offices should be combined to achieve greater efficiency and reduce the cost of administration '' .\",\n",
              " \"The City Purchasing Department , the jury said , `` is lacking in experienced clerical personnel as a result of city personnel policies '' .\",\n",
              " \"It urged that the city `` take steps to remedy '' this problem .\",\n",
              " \"Implementation of Georgia's automobile title law was also recommended by the outgoing jury .\",\n",
              " \"It urged that the next Legislature `` provide enabling funds and re-set the effective date so that an orderly implementation of the law may be effected '' .\",\n",
              " \"The grand jury took a swipe at the State Welfare Department's handling of federal funds granted for child welfare services in foster homes .\",\n",
              " \"`` This is one of the major items in the Fulton County general assistance program '' , the jury said , but the State Welfare Department `` has seen fit to distribute these funds through the welfare departments of all the counties in the state with the exception of Fulton County , which receives none of this money .\",\n",
              " \"The jurors said they realize `` a proportionate distribution of these funds might disable this program in our less populous counties '' .\",\n",
              " \"Nevertheless , `` we feel that in the future Fulton County should receive some portion of these available funds '' , the jurors said .\",\n",
              " \"`` Failure to do this will continue to place a disproportionate burden '' on Fulton taxpayers .\",\n",
              " \"The jury also commented on the Fulton ordinary's court which has been under fire for its practices in the appointment of appraisers , guardians and administrators and the awarding of fees and compensation .\",\n",
              " 'Wards protected',\n",
              " \"The jury said it found the court `` has incorporated into its operating procedures the recommendations '' of two previous grand juries , the Atlanta Bar Association and an interim citizens committee .\",\n",
              " \"`` These actions should serve to protect in fact and in effect the court's wards from undue costs and its appointed and elected servants from unmeritorious criticisms '' , the jury said .\",\n",
              " \"Regarding Atlanta's new multi-million-dollar airport , the jury recommended `` that when the new management takes charge Jan. 1 the airport be operated in a manner that will eliminate political influences '' .\",\n",
              " \"The jury did not elaborate , but it added that `` there should be periodic surveillance of the pricing practices of the concessionaires for the purpose of keeping the prices reasonable '' .\",\n",
              " 'Ask jail deputies',\n",
              " 'On other matters , the jury recommended that : ( 1 )',\n",
              " \"Four additional deputies be employed at the Fulton County Jail and `` a doctor , medical intern or extern be employed for night and weekend duty at the jail '' .\",\n",
              " '( 2 )',\n",
              " \"Fulton legislators `` work with city officials to pass enabling legislation that will permit the establishment of a fair and equitable '' pension plan for city employes .\",\n",
              " \"The jury praised the administration and operation of the Atlanta Police Department , the Fulton Tax Commissioner's Office , the Bellwood and Alpharetta prison farms , Grady Hospital and the Fulton Health Department .\",\n",
              " 'Mayor William B. Hartsfield filed suit for divorce from his wife , Pearl Williams Hartsfield , in Fulton Superior Court Friday .',\n",
              " 'His petition charged mental cruelty .',\n",
              " 'The couple was married Aug. 2 , 1913 .',\n",
              " 'They have a son , William Berry Jr. , and a daughter , Mrs. J. M. Cheshire of Griffin .',\n",
              " 'Attorneys for the mayor said that an amicable property settlement has been agreed upon .',\n",
              " \"The petition listed the mayor's occupation as `` attorney '' and his age as 71 .\",\n",
              " \"It listed his wife's age as 74 and place of birth as Opelika , Ala. .\",\n",
              " 'The petition said that the couple has not lived together as man and wife for more than a year .',\n",
              " 'The Hartsfield home is at 637 E. Pelham Rd. Aj .',\n",
              " \"Henry L. Bowden was listed on the petition as the mayor's attorney .\",\n",
              " 'Hartsfield has been mayor of Atlanta , with exception of one brief interlude , since 1937 .',\n",
              " 'His political career goes back to his election to city council in 1923 .',\n",
              " \"The mayor's present term of office expires Jan. 1 .\",\n",
              " 'He will be succeeded by Ivan Allen Jr. , who became a candidate in the Sept. 13 primary after Mayor Hartsfield announced that he would not run for reelection .',\n",
              " \"Georgia Republicans are getting strong encouragement to enter a candidate in the 1962 governor's race , a top official said Wednesday .\",\n",
              " 'Robert Snodgrass , state GOP chairman , said a meeting held Tuesday night in Blue Ridge brought enthusiastic responses from the audience .',\n",
              " 'State Party Chairman James W. Dorsey added that enthusiasm was picking up for a state rally to be held Sept. 8 in Savannah at which newly elected Texas Sen. John Tower will be the featured speaker .',\n",
              " 'In the Blue Ridge meeting , the audience was warned that entering a candidate for governor would force it to take petitions out into voting precincts to obtain the signatures of registered voters .',\n",
              " 'Despite the warning , there was a unanimous vote to enter a candidate , according to Republicans who attended .',\n",
              " 'When the crowd was asked whether it wanted to wait one more term to make the race , it voted no -- and there were no dissents .',\n",
              " 'The largest hurdle the Republicans would have to face is a state law which says that before making a first race , one of two alternative courses must be taken : 1',\n",
              " 'Five per cent of the voters in each county must sign petitions requesting that the Republicans be allowed to place names of candidates on the general election ballot , or 2',\n",
              " 'The Republicans must hold a primary under the county unit system -- a system which the party opposes in its platform .',\n",
              " \"Sam Caldwell , State Highway Department public relations director , resigned Tuesday to work for Lt. Gov. Garland Byrd's campaign .\",\n",
              " \"Caldwell's resignation had been expected for some time .\",\n",
              " 'He will be succeeded by Rob Ledford of Gainesville , who has been an assistant more than three years .',\n",
              " 'When the gubernatorial campaign starts , Caldwell is expected to become a campaign coordinator for Byrd .',\n",
              " 'The Georgia Legislature will wind up its 1961 session Monday and head for home -- where some of the highway bond money it approved will follow shortly .',\n",
              " 'Before adjournment Monday afternoon , the Senate is expected to approve a study of the number of legislators allotted to rural and urban areas to determine what adjustments should be made .',\n",
              " 'Gov. Vandiver is expected to make the traditional visit to both chambers as they work toward adjournment .',\n",
              " 'Vandiver likely will mention the $100 million highway bond issue approved earlier in the session as his first priority item .',\n",
              " 'Construction bonds',\n",
              " 'Meanwhile , it was learned the State Highway Department is very near being ready to issue the first $30 million worth of highway reconstruction bonds .',\n",
              " \"The bond issue will go to the state courts for a friendly test suit to test the validity of the act , and then the sales will begin and contracts let for repair work on some of Georgia's most heavily traveled highways .\",\n",
              " 'A Highway Department source said there also is a plan there to issue some $3 million to $4 million worth of Rural Roads Authority bonds for rural road construction work .',\n",
              " 'A revolving fund',\n",
              " 'The department apparently intends to make the Rural Roads Authority a revolving fund under which new bonds would be issued every time a portion of the old ones are paid off by tax authorities .',\n",
              " 'Vandiver opened his race for governor in 1958 with a battle in the Legislature against the issuance of $50 million worth of additional rural roads bonds proposed by then Gov. Marvin Griffin .',\n",
              " 'The Highway Department source told The Constitution , however , that Vandiver has not been consulted yet about the plans to issue the new rural roads bonds .',\n",
              " \"Schley County Rep. B. D. Pelham will offer a resolution Monday in the House to rescind the body's action of Friday in voting itself a $10 per day increase in expense allowances .\",\n",
              " \"Pelham said Sunday night there was research being done on whether the `` quickie '' vote on the increase can be repealed outright or whether notice would have to first be given that reconsideration of the action would be sought .\",\n",
              " 'While emphasizing that technical details were not fully worked out , Pelham said his resolution would seek to set aside the privilege resolution which the House voted through 87-31 .',\n",
              " 'A similar resolution passed in the Senate by a vote of 29-5 .',\n",
              " 'As of Sunday night , there was no word of a resolution being offered there to rescind the action .',\n",
              " 'Pelham pointed out that Georgia voters last November rejected a constitutional amendment to allow legislators to vote on pay raises for future Legislature sessions .',\n",
              " 'A veteran Jackson County legislator will ask the Georgia House Monday to back federal aid to education , something it has consistently opposed in the past .',\n",
              " \"Rep. Mac Barber of Commerce is asking the House in a privilege resolution to `` endorse increased federal support for public education , provided that such funds be received and expended '' as state funds .\",\n",
              " \"Barber , who is in his 13th year as a legislator , said there `` are some members of our congressional delegation in Washington who would like to see it ( the resolution ) passed '' .\",\n",
              " \"But he added that none of Georgia's congressmen specifically asked him to offer the resolution .\",\n",
              " 'The resolution , which Barber tossed into the House hopper Friday , will be formally read Monday .',\n",
              " \"It says that `` in the event Congress does provide this increase in federal funds '' , the State Board of Education should be directed to `` give priority '' to teacher pay raises .\",\n",
              " 'Colquitt',\n",
              " \"-- After a long , hot controversy , Miller County has a new school superintendent , elected , as a policeman put it , in the `` coolest election I ever saw in this county '' .\",\n",
              " 'The new school superintendent is Harry Davis , a veteran agriculture teacher , who defeated Felix Bush , a school principal and chairman of the Miller County Democratic Executive Committee .',\n",
              " \"Davis received 1,119 votes in Saturday's election , and Bush got 402 .\",\n",
              " 'Ordinary Carey Williams , armed with a pistol , stood by at the polls to insure order .',\n",
              " \"`` This was the coolest , calmest election I ever saw '' , Colquitt Policeman Tom Williams said .\",\n",
              " '`` Being at the polls was just like being at church .',\n",
              " \"I didn't smell a drop of liquor , and we didn't have a bit of trouble '' .\",\n",
              " 'The campaign leading to the election was not so quiet , however .',\n",
              " 'It was marked by controversy , anonymous midnight phone calls and veiled threats of violence .',\n",
              " 'The former county school superintendent , George P. Callan , shot himself to death March 18 , four days after he resigned his post in a dispute with the county school board .',\n",
              " 'During the election campaign , both candidates , Davis and Bush , reportedly received anonymous telephone calls .',\n",
              " 'Ordinary Williams said he , too , was subjected to anonymous calls soon after he scheduled the election .',\n",
              " 'Many local citizens feared that there would be irregularities at the polls , and Williams got himself a permit to carry a gun and promised an orderly election .',\n",
              " 'Sheriff Felix Tabb said the ordinary apparently made good his promise .',\n",
              " \"`` Everything went real smooth '' , the sheriff said .\",\n",
              " \"`` There wasn't a bit of trouble '' .\"]"
            ]
          },
          "metadata": {
            "tags": []
          },
          "execution_count": 4
        }
      ]
    },
    {
      "cell_type": "code",
      "metadata": {
        "id": "Nis2CXYy19Mn",
        "colab_type": "code",
        "colab": {}
      },
      "source": [
        "class TextCleaner():\n",
        "    \n",
        "    def __init__(self):\n",
        "        self.stop_words = set(stopwords.words(\"english\"))\n",
        "        self.punctuations = set(string.punctuation)\n",
        "        self.pos_tags = {\n",
        "                NOUN: ['NN', 'NNS', 'NNP', 'NNPS', 'PRP', 'PRP$', 'WP', 'WP$'],\n",
        "                VERB: ['VB', 'VBD', 'VBG', 'VBN', 'VBP', 'VBZ'],\n",
        "                ADJ: ['JJ', 'JJR', 'JJS'],\n",
        "                ADV: ['RB', 'RBR', 'RBS', 'WRB']\n",
        "        }\n",
        "\n",
        "\n",
        "    def _remove_stop_words(self, words):\n",
        "        return [w for w in words if w not in self.stop_words]\n",
        "     \n",
        "    \n",
        "    def _remove_regex(self):\n",
        "        self.input_sent = \" \".join([w.lower() for w in self.input_sent])\n",
        "        self.input_sent = re.sub(r\"i'm\", \"i am\", self.input_sent)\n",
        "        self.input_sent = re.sub(r\"he's\", \"he is\", self.input_sent)\n",
        "        self.input_sent = re.sub(r\"she's\", \"she is\", self.input_sent)\n",
        "        self.input_sent = re.sub(r\"that's\", \"that is\", self.input_sent)\n",
        "        self.input_sent = re.sub(r\"what's\", \"what is\", self.input_sent)\n",
        "        self.input_sent = re.sub(r\"where's\", \"where is\", self.input_sent)\n",
        "        self.input_sent = re.sub(r\"\\'ll\", \" will\", self.input_sent)\n",
        "        self.input_sent = re.sub(r\"\\'ve\", \" have\", self.input_sent)\n",
        "        self.input_sent = re.sub(r\"\\'re\", \" are\", self.input_sent)\n",
        "        self.input_sent = re.sub(r\"\\'d\", \" would\", self.input_sent)\n",
        "        self.input_sent = re.sub(r\"won't\", \"will not\", self.input_sent)\n",
        "        self.input_sent = re.sub(r\"can't\", \"cannot\", self.input_sent)\n",
        "        self.input_sent = re.sub(r\"don't\", \"do not\", self.input_sent)\n",
        "        patterns = re.finditer(\"#[\\w]*\", self.input_sent)\n",
        "        for pattern in patterns:\n",
        "            self.input_sent = re.sub(pattern.group().strip(), \"\", self.input_sent)\n",
        "        self.input_sent = \"\".join(ch for ch in self.input_sent if ch not in self.punctuations)\n",
        "    \n",
        "    \n",
        "    def _tokenize(self):\n",
        "        return word_tokenize(self.input_sent)\n",
        "    \n",
        "    \n",
        "    def _process_content_for_pos(self, words):\n",
        "        tagged_words = pos_tag(words)\n",
        "        pos_words = []\n",
        "        for word in tagged_words:\n",
        "            flag = False\n",
        "            for key, value in self.pos_tags.items():\n",
        "                if word[1] in value:\n",
        "                    pos_words.append((word[0], key))\n",
        "                    flag = True\n",
        "                    break\n",
        "            if not flag:\n",
        "                pos_words.append((word[0], NOUN))\n",
        "        return pos_words\n",
        "       \n",
        "                 \n",
        "    def _remove_noise(self):\n",
        "        self._remove_regex()\n",
        "        words = self._tokenize()\n",
        "        noise_free_words = self._remove_stop_words(words)\n",
        "        return noise_free_words\n",
        "    \n",
        "    \n",
        "    def _normalize_text(self, words):\n",
        "        lem = WordNetLemmatizer()\n",
        "        pos_words = self._process_content_for_pos(words)\n",
        "        normalized_words = [lem.lemmatize(w, pos=p) for w, p in pos_words]\n",
        "        return normalized_words\n",
        "    \n",
        "    \n",
        "    def clean_up(self, input_sent):\n",
        "        self.input_sent = input_sent\n",
        "        cleaned_words = self._remove_noise()\n",
        "        cleaned_words = self._normalize_text(cleaned_words)\n",
        "        return cleaned_words"
      ],
      "execution_count": 0,
      "outputs": []
    },
    {
      "cell_type": "markdown",
      "metadata": {
        "id": "Rn4h1aHK19Mt",
        "colab_type": "text"
      },
      "source": [
        "## PageRank Algorithm"
      ]
    },
    {
      "cell_type": "code",
      "metadata": {
        "id": "D588gzgl19Mv",
        "colab_type": "code",
        "colab": {}
      },
      "source": [
        "def pagerank(M, eps=1.0e-8, d=0.85):\n",
        "    N = M.shape[1]\n",
        "    v = np.random.rand(N, 1)\n",
        "    v = v / np.linalg.norm(v, 1)\n",
        "    last_v = np.ones((N, 1), dtype=np.float32) * np.inf\n",
        "    M_hat = (d * M) + (((1 - d) / N) * np.ones((N, N), dtype=np.float32))\n",
        "    \n",
        "    while np.linalg.norm(v - last_v, 2) > eps:\n",
        "        last_v = v\n",
        "        v = np.matmul(M_hat, v)\n",
        "    return v"
      ],
      "execution_count": 0,
      "outputs": []
    },
    {
      "cell_type": "markdown",
      "metadata": {
        "id": "Py-qsfDq19M0",
        "colab_type": "text"
      },
      "source": [
        "### Function to calculate cosine similarity among sentences"
      ]
    },
    {
      "cell_type": "code",
      "metadata": {
        "id": "moYC0Hcm19M2",
        "colab_type": "code",
        "colab": {}
      },
      "source": [
        "def sentence_similarity(sent1, sent2):\n",
        "    text_cleaner = TextCleaner()\n",
        "    \n",
        "    sent1 = text_cleaner.clean_up(sent1)\n",
        "    sent2 = text_cleaner.clean_up(sent2)\n",
        "    \n",
        "    all_words = list(set(sent1 + sent2))\n",
        "    \n",
        "    vector1 = [0] * len(all_words)\n",
        "    vector2 = [0] * len(all_words)\n",
        "    \n",
        "    for w in sent1:\n",
        "        vector1[all_words.index(w)] += 1\n",
        "    \n",
        "    for w in sent2:\n",
        "        vector2[all_words.index(w)] += 1\n",
        "    \n",
        "    return 1 - cosine_distance(vector1, vector2)"
      ],
      "execution_count": 0,
      "outputs": []
    },
    {
      "cell_type": "markdown",
      "metadata": {
        "id": "oqKgzRpX19M6",
        "colab_type": "text"
      },
      "source": [
        "### Similarity Adjacency Matrix for PageRank"
      ]
    },
    {
      "cell_type": "code",
      "metadata": {
        "id": "XHb4pw4i19M7",
        "colab_type": "code",
        "colab": {}
      },
      "source": [
        "def build_similarity_matrix(sentences):\n",
        "    S = np.zeros((len(sentences), len(sentences)))\n",
        "    for i in range(len(sentences)):\n",
        "        for j in range(len(sentences)):\n",
        "            if i == j:\n",
        "                continue\n",
        "            else:\n",
        "                S[i][j] = sentence_similarity(sentences[i], sentences[j])\n",
        "    \n",
        "    for i in range(len(S)):\n",
        "        S[i] /= S[i].sum()\n",
        "    return S"
      ],
      "execution_count": 0,
      "outputs": []
    },
    {
      "cell_type": "code",
      "metadata": {
        "id": "GiwVplVu19NB",
        "colab_type": "code",
        "colab": {}
      },
      "source": [
        "S = build_similarity_matrix(sentences)"
      ],
      "execution_count": 0,
      "outputs": []
    },
    {
      "cell_type": "code",
      "metadata": {
        "id": "NUGSHPvp19NH",
        "colab_type": "code",
        "colab": {},
        "outputId": "e63b4154-7381-4364-bdee-fee23cb93358"
      },
      "source": [
        "import nltk\n",
        "nltk.download('wordnet')"
      ],
      "execution_count": 0,
      "outputs": [
        {
          "output_type": "stream",
          "text": [
            "[nltk_data] Downloading package wordnet to\n",
            "[nltk_data]     C:\\Users\\Asyrofi\\AppData\\Roaming\\nltk_data...\n",
            "[nltk_data]   Unzipping corpora\\wordnet.zip.\n"
          ],
          "name": "stderr"
        },
        {
          "output_type": "execute_result",
          "data": {
            "text/plain": [
              "True"
            ]
          },
          "metadata": {
            "tags": []
          },
          "execution_count": 10
        }
      ]
    },
    {
      "cell_type": "code",
      "metadata": {
        "id": "ohyJpJA319NL",
        "colab_type": "code",
        "colab": {},
        "outputId": "feb20494-99a3-41d3-c578-24925aedd8ab"
      },
      "source": [
        "S"
      ],
      "execution_count": 0,
      "outputs": [
        {
          "output_type": "execute_result",
          "data": {
            "text/plain": [
              "array([[0.        , 0.03809933, 0.03196713, ..., 0.01191345, 0.01459093,\n",
              "        0.        ],\n",
              "       [0.04793482, 0.        , 0.01714968, ..., 0.01278262, 0.01565545,\n",
              "        0.        ],\n",
              "       [0.07569435, 0.03227618, 0.        , ..., 0.        , 0.        ,\n",
              "        0.        ],\n",
              "       ...,\n",
              "       [0.02576081, 0.02196889, 0.        , ..., 0.        , 0.08413444,\n",
              "        0.        ],\n",
              "       [0.03354197, 0.02860469, 0.        , ..., 0.08944524, 0.        ,\n",
              "        0.        ],\n",
              "       [0.        , 0.        , 0.        , ..., 0.        , 0.        ,\n",
              "        0.        ]])"
            ]
          },
          "metadata": {
            "tags": []
          },
          "execution_count": 12
        }
      ]
    },
    {
      "cell_type": "code",
      "metadata": {
        "id": "gQ2C3i4R19NQ",
        "colab_type": "code",
        "colab": {}
      },
      "source": [
        "sentence_ranks = pagerank(S)"
      ],
      "execution_count": 0,
      "outputs": []
    },
    {
      "cell_type": "markdown",
      "metadata": {
        "id": "n5yri8My19NT",
        "colab_type": "text"
      },
      "source": [
        "**Sentence Ranked according to their importance**"
      ]
    },
    {
      "cell_type": "code",
      "metadata": {
        "id": "KHnCNIdt19NU",
        "colab_type": "code",
        "colab": {},
        "outputId": "6f3f135b-e4ac-4761-84d0-d52625fdcd1d"
      },
      "source": [
        "sentence_ranks"
      ],
      "execution_count": 0,
      "outputs": [
        {
          "output_type": "execute_result",
          "data": {
            "text/plain": [
              "array([[0.01654559],\n",
              "       [0.01488219],\n",
              "       [0.01532134],\n",
              "       [0.01557424],\n",
              "       [0.01432059],\n",
              "       [0.01327455],\n",
              "       [0.00136336],\n",
              "       [0.01657371],\n",
              "       [0.01603994],\n",
              "       [0.01438267],\n",
              "       [0.01296925],\n",
              "       [0.01395622],\n",
              "       [0.00440929],\n",
              "       [0.01018161],\n",
              "       [0.00518729],\n",
              "       [0.00016733],\n",
              "       [0.01715976],\n",
              "       [0.01289655],\n",
              "       [0.00912811],\n",
              "       [0.01041007],\n",
              "       [0.00891017],\n",
              "       [0.01323102],\n",
              "       [0.01485767],\n",
              "       [0.00348853],\n",
              "       [0.01309149],\n",
              "       [0.00080045],\n",
              "       [0.00973098],\n",
              "       [0.01271438],\n",
              "       [0.01265435],\n",
              "       [0.0085937 ],\n",
              "       [0.01840167],\n",
              "       [0.01552112],\n",
              "       [0.00984595],\n",
              "       [0.01365058],\n",
              "       [0.01293599],\n",
              "       [0.01589648],\n",
              "       [0.00019401],\n",
              "       [0.0173595 ],\n",
              "       [0.01581783],\n",
              "       [0.00923619],\n",
              "       [0.01537113],\n",
              "       [0.00013282],\n",
              "       [0.01550033],\n",
              "       [0.0149573 ],\n",
              "       [0.00613643],\n",
              "       [0.00103194],\n",
              "       [0.00765428],\n",
              "       [0.00509291],\n",
              "       [0.01355962],\n",
              "       [0.01452328],\n",
              "       [0.00331337],\n",
              "       [0.00590661],\n",
              "       [0.00265472],\n",
              "       [0.01676922],\n",
              "       [0.01779052],\n",
              "       [0.00172942],\n",
              "       [0.00843324],\n",
              "       [0.00404696],\n",
              "       [0.00598786],\n",
              "       [0.00914632],\n",
              "       [0.00326971],\n",
              "       [0.0019408 ],\n",
              "       [0.01812137],\n",
              "       [0.00960594],\n",
              "       [0.00604202],\n",
              "       [0.005477  ],\n",
              "       [0.01542368],\n",
              "       [0.0051576 ],\n",
              "       [0.01536722],\n",
              "       [0.01091632],\n",
              "       [0.01236113],\n",
              "       [0.00589551],\n",
              "       [0.00753149],\n",
              "       [0.00993333],\n",
              "       [0.01592332],\n",
              "       [0.00376891],\n",
              "       [0.01135934],\n",
              "       [0.00803627],\n",
              "       [0.00856197],\n",
              "       [0.01788621],\n",
              "       [0.00635278],\n",
              "       [0.01820912],\n",
              "       [0.01604553],\n",
              "       [0.00143119],\n",
              "       [0.01268248],\n",
              "       [0.00720005],\n",
              "       [0.01796033],\n",
              "       [0.01119208],\n",
              "       [0.01369592],\n",
              "       [0.0137759 ],\n",
              "       [0.00528905],\n",
              "       [0.01283673],\n",
              "       [0.00359292],\n",
              "       [0.00226462],\n",
              "       [0.005241  ],\n",
              "       [0.00446678],\n",
              "       [0.01488761],\n",
              "       [0.00888278]])"
            ]
          },
          "metadata": {
            "tags": []
          },
          "execution_count": 14
        }
      ]
    },
    {
      "cell_type": "code",
      "metadata": {
        "id": "ldavPGa619Nb",
        "colab_type": "code",
        "colab": {}
      },
      "source": [
        "ranked_sentence_indexes = [item[0] for item in sorted(enumerate(sentence_ranks), key=lambda item: -item[1])]"
      ],
      "execution_count": 0,
      "outputs": []
    },
    {
      "cell_type": "code",
      "metadata": {
        "id": "ccVpRkW519Nh",
        "colab_type": "code",
        "colab": {},
        "outputId": "2766362e-f359-4394-e6cc-69df741af23b"
      },
      "source": [
        "ranked_sentence_indexes"
      ],
      "execution_count": 0,
      "outputs": [
        {
          "output_type": "execute_result",
          "data": {
            "text/plain": [
              "[30,\n",
              " 81,\n",
              " 62,\n",
              " 86,\n",
              " 79,\n",
              " 54,\n",
              " 37,\n",
              " 16,\n",
              " 53,\n",
              " 7,\n",
              " 0,\n",
              " 82,\n",
              " 8,\n",
              " 74,\n",
              " 35,\n",
              " 38,\n",
              " 3,\n",
              " 31,\n",
              " 42,\n",
              " 66,\n",
              " 40,\n",
              " 68,\n",
              " 2,\n",
              " 43,\n",
              " 96,\n",
              " 1,\n",
              " 22,\n",
              " 49,\n",
              " 9,\n",
              " 4,\n",
              " 11,\n",
              " 89,\n",
              " 88,\n",
              " 33,\n",
              " 48,\n",
              " 5,\n",
              " 21,\n",
              " 24,\n",
              " 10,\n",
              " 34,\n",
              " 17,\n",
              " 91,\n",
              " 27,\n",
              " 84,\n",
              " 28,\n",
              " 70,\n",
              " 76,\n",
              " 87,\n",
              " 69,\n",
              " 19,\n",
              " 13,\n",
              " 73,\n",
              " 32,\n",
              " 26,\n",
              " 63,\n",
              " 39,\n",
              " 59,\n",
              " 18,\n",
              " 20,\n",
              " 97,\n",
              " 29,\n",
              " 78,\n",
              " 56,\n",
              " 77,\n",
              " 46,\n",
              " 72,\n",
              " 85,\n",
              " 80,\n",
              " 44,\n",
              " 64,\n",
              " 58,\n",
              " 51,\n",
              " 71,\n",
              " 65,\n",
              " 90,\n",
              " 94,\n",
              " 14,\n",
              " 67,\n",
              " 47,\n",
              " 95,\n",
              " 12,\n",
              " 57,\n",
              " 75,\n",
              " 92,\n",
              " 23,\n",
              " 50,\n",
              " 60,\n",
              " 52,\n",
              " 93,\n",
              " 61,\n",
              " 55,\n",
              " 83,\n",
              " 6,\n",
              " 45,\n",
              " 25,\n",
              " 36,\n",
              " 15,\n",
              " 41]"
            ]
          },
          "metadata": {
            "tags": []
          },
          "execution_count": 16
        }
      ]
    },
    {
      "cell_type": "code",
      "metadata": {
        "id": "JPEwqtXx19Nm",
        "colab_type": "code",
        "colab": {},
        "outputId": "b8fb9c48-b5d8-48e0-a70b-1e22cd8e091c"
      },
      "source": [
        "plt.bar([item[0] for item in sorted(enumerate(sentence_ranks))], sentence_ranks.T[0])\n",
        "plt.xlabel(\"Sentence No.\")\n",
        "plt.ylabel(\"Importance\")\n",
        "plt.show()"
      ],
      "execution_count": 0,
      "outputs": [
        {
          "output_type": "display_data",
          "data": {
            "image/png": "[encoded data removed]",
            "text/plain": [
              "<Figure size 432x288 with 1 Axes>"
            ]
          },
          "metadata": {
            "tags": [],
            "needs_background": "light"
          }
        }
      ]
    },
    {
      "cell_type": "code",
      "metadata": {
        "id": "I6ioxJNn19Np",
        "colab_type": "code",
        "colab": {},
        "outputId": "77f7207b-00a9-4bd2-aa67-7f9f8e9e6afb"
      },
      "source": [
        "plt.plot([item[0] for item in sorted(enumerate(sentence_ranks))], sentence_ranks)\n",
        "plt.xlabel(\"Sentence No.\")\n",
        "plt.ylabel(\"Importance\")\n",
        "plt.show()"
      ],
      "execution_count": 0,
      "outputs": [
        {
          "output_type": "display_data",
          "data": {
            "image/png": "[encoded data removed]",
            "text/plain": [
              "<Figure size 432x288 with 1 Axes>"
            ]
          },
          "metadata": {
            "tags": [],
            "needs_background": "light"
          }
        }
      ]
    },
    {
      "cell_type": "code",
      "metadata": {
        "id": "EgaoyPSX19Nt",
        "colab_type": "code",
        "colab": {}
      },
      "source": [
        "SUMMARY_SIZE = 5"
      ],
      "execution_count": 0,
      "outputs": []
    },
    {
      "cell_type": "code",
      "metadata": {
        "id": "xPozS74519Nw",
        "colab_type": "code",
        "colab": {}
      },
      "source": [
        "selected_sentences = sorted(ranked_sentence_indexes[:SUMMARY_SIZE])"
      ],
      "execution_count": 0,
      "outputs": []
    },
    {
      "cell_type": "code",
      "metadata": {
        "id": "wPzl1M-L19N0",
        "colab_type": "code",
        "colab": {},
        "outputId": "44defb2d-ec82-4b40-f81c-d002f54b9544"
      },
      "source": [
        "selected_sentences"
      ],
      "execution_count": 0,
      "outputs": [
        {
          "output_type": "execute_result",
          "data": {
            "text/plain": [
              "[30, 62, 79, 81, 86]"
            ]
          },
          "metadata": {
            "tags": []
          },
          "execution_count": 21
        }
      ]
    },
    {
      "cell_type": "code",
      "metadata": {
        "id": "aYaDBqkJ19N5",
        "colab_type": "code",
        "colab": {}
      },
      "source": [
        "summary = itemgetter(*selected_sentences)(sentences)"
      ],
      "execution_count": 0,
      "outputs": []
    },
    {
      "cell_type": "markdown",
      "metadata": {
        "id": "qbEtYII719N9",
        "colab_type": "text"
      },
      "source": [
        "**Generated Summary**"
      ]
    },
    {
      "cell_type": "code",
      "metadata": {
        "id": "z1IV0arp19N9",
        "colab_type": "code",
        "colab": {},
        "outputId": "5a92d49f-e7a6-40af-eff3-f6909eee8309"
      },
      "source": [
        "for sent in summary:\n",
        "    print(' '.join(sent))"
      ],
      "execution_count": 0,
      "outputs": [
        {
          "output_type": "stream",
          "text": [
            "Mayor William B. Hartsfield filed suit for divorce from his wife , Pearl Williams Hartsfield , in Fulton Superior Court Friday .\n",
            "Meanwhile , it was learned the State Highway Department is very near being ready to issue the first $30 million worth of highway reconstruction bonds .\n",
            "The resolution , which Barber tossed into the House hopper Friday , will be formally read Monday .\n",
            "Colquitt\n",
            "`` This was the coolest , calmest election I ever saw '' , Colquitt Policeman Tom Williams said .\n"
          ],
          "name": "stdout"
        }
      ]
    },
    {
      "cell_type": "code",
      "metadata": {
        "id": "isUkjlLk19OB",
        "colab_type": "code",
        "colab": {}
      },
      "source": [
        ""
      ],
      "execution_count": 0,
      "outputs": []
    }
  ]
}